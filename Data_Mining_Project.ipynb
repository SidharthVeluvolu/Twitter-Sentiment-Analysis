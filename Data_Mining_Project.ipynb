{
 "cells": [
  {
   "cell_type": "code",
   "execution_count": 132,
   "id": "8c9c8cd6",
   "metadata": {},
   "outputs": [
    {
     "name": "stderr",
     "output_type": "stream",
     "text": [
      "[nltk_data] Downloading package punkt to C:\\Users\\Sidharth\n",
      "[nltk_data]     Veluvolu\\AppData\\Roaming\\nltk_data...\n",
      "[nltk_data]   Package punkt is already up-to-date!\n",
      "[nltk_data] Downloading package stopwords to C:\\Users\\Sidharth\n",
      "[nltk_data]     Veluvolu\\AppData\\Roaming\\nltk_data...\n",
      "[nltk_data]   Package stopwords is already up-to-date!\n",
      "[nltk_data] Downloading package wordnet to C:\\Users\\Sidharth\n",
      "[nltk_data]     Veluvolu\\AppData\\Roaming\\nltk_data...\n",
      "[nltk_data]   Package wordnet is already up-to-date!\n"
     ]
    },
    {
     "data": {
      "text/plain": [
       "True"
      ]
     },
     "execution_count": 132,
     "metadata": {},
     "output_type": "execute_result"
    }
   ],
   "source": [
    "# Install stopwords package\n",
    "import nltk\n",
    "import string\n",
    "nltk.download('punkt')\n",
    "nltk.download('stopwords')\n",
    "import matplotlib.pyplot as plt\n",
    "import seaborn as sns\n",
    "import pandas as pd\n",
    "import numpy as np\n",
    "import re\n",
    "from nltk.corpus import stopwords\n",
    "from nltk.stem import PorterStemmer\n",
    "from nltk.tokenize import word_tokenize\n",
    "from nltk.stem import WordNetLemmatizer\n",
    "# ML Libraries\n",
    "from sklearn.model_selection import train_test_split\n",
    "from sklearn.naive_bayes import MultinomialNB\n",
    "from sklearn.linear_model import LogisticRegression\n",
    "from sklearn.ensemble import RandomForestClassifier\n",
    "from sklearn.linear_model import SGDClassifier\n",
    "from sklearn.svm import SVC\n",
    "from sklearn.svm import LinearSVC\n",
    "from sklearn.feature_extraction.text import TfidfVectorizer\n",
    "from sklearn.feature_extraction.text import CountVectorizer, TfidfTransformer\n",
    "from sklearn.model_selection import GridSearchCV\n",
    "from sklearn.metrics import classification_report, confusion_matrix, accuracy_score\n",
    "from nltk.stem import WordNetLemmatizer\n",
    "from xgboost import XGBClassifier\n",
    "import xgboost as xgb\n",
    "from sklearn.pipeline import Pipeline\n",
    "nltk.download('wordnet')"
   ]
  },
  {
   "cell_type": "code",
   "execution_count": 80,
   "id": "18e5973b",
   "metadata": {},
   "outputs": [],
   "source": [
    "df = pd.ExcelFile('training-Obama-Romney-tweets.xlsx')"
   ]
  },
  {
   "cell_type": "code",
   "execution_count": 81,
   "id": "c779a46d",
   "metadata": {},
   "outputs": [
    {
     "data": {
      "text/plain": [
       "<pandas.io.excel._base.ExcelFile at 0x1fb92d96640>"
      ]
     },
     "execution_count": 81,
     "metadata": {},
     "output_type": "execute_result"
    }
   ],
   "source": [
    "df"
   ]
  },
  {
   "cell_type": "code",
   "execution_count": 82,
   "id": "8fb36f8b",
   "metadata": {},
   "outputs": [],
   "source": [
    "df1 = pd.read_excel(df, 'Obama')\n",
    "df2 = pd.read_excel(df, 'Romney')"
   ]
  },
  {
   "cell_type": "code",
   "execution_count": 83,
   "id": "40fb45eb",
   "metadata": {},
   "outputs": [
    {
     "data": {
      "text/html": [
       "<div>\n",
       "<style scoped>\n",
       "    .dataframe tbody tr th:only-of-type {\n",
       "        vertical-align: middle;\n",
       "    }\n",
       "\n",
       "    .dataframe tbody tr th {\n",
       "        vertical-align: top;\n",
       "    }\n",
       "\n",
       "    .dataframe thead th {\n",
       "        text-align: right;\n",
       "    }\n",
       "</style>\n",
       "<table border=\"1\" class=\"dataframe\">\n",
       "  <thead>\n",
       "    <tr style=\"text-align: right;\">\n",
       "      <th></th>\n",
       "      <th>Unnamed: 0</th>\n",
       "      <th>date</th>\n",
       "      <th>time</th>\n",
       "      <th>Anootated tweet</th>\n",
       "      <th>Unnamed: 4</th>\n",
       "      <th>Unnamed: 5</th>\n",
       "    </tr>\n",
       "  </thead>\n",
       "  <tbody>\n",
       "    <tr>\n",
       "      <th>0</th>\n",
       "      <td>NaN</td>\n",
       "      <td>NaN</td>\n",
       "      <td>NaN</td>\n",
       "      <td>1: positive, -1: negative, 0: neutral, 2: mixed</td>\n",
       "      <td>Class</td>\n",
       "      <td>Your class</td>\n",
       "    </tr>\n",
       "    <tr>\n",
       "      <th>1</th>\n",
       "      <td>NaN</td>\n",
       "      <td>2012-10-16 00:00:00</td>\n",
       "      <td>10:28:53-05:00</td>\n",
       "      <td>Kirkpatrick, who wore a baseball cap embroider...</td>\n",
       "      <td>0</td>\n",
       "      <td>NaN</td>\n",
       "    </tr>\n",
       "    <tr>\n",
       "      <th>2</th>\n",
       "      <td>NaN</td>\n",
       "      <td>2016-12-10 00:00:00</td>\n",
       "      <td>10:09:00-05:00</td>\n",
       "      <td>Question: If &lt;e&gt;Romney&lt;/e&gt; and &lt;e&gt;Obama&lt;/e&gt; ha...</td>\n",
       "      <td>2</td>\n",
       "      <td>NaN</td>\n",
       "    </tr>\n",
       "    <tr>\n",
       "      <th>3</th>\n",
       "      <td>NaN</td>\n",
       "      <td>2012-10-16 00:00:00</td>\n",
       "      <td>10:04:30-05:00</td>\n",
       "      <td>#&lt;e&gt;obama&lt;/e&gt; debates that Cracker Ass Cracker...</td>\n",
       "      <td>1</td>\n",
       "      <td>NaN</td>\n",
       "    </tr>\n",
       "    <tr>\n",
       "      <th>4</th>\n",
       "      <td>NaN</td>\n",
       "      <td>2012-10-16 00:00:00</td>\n",
       "      <td>10:00:36-05:00</td>\n",
       "      <td>RT @davewiner Slate: Blame &lt;e&gt;Obama&lt;/e&gt; for fo...</td>\n",
       "      <td>2</td>\n",
       "      <td>NaN</td>\n",
       "    </tr>\n",
       "    <tr>\n",
       "      <th>...</th>\n",
       "      <td>...</td>\n",
       "      <td>...</td>\n",
       "      <td>...</td>\n",
       "      <td>...</td>\n",
       "      <td>...</td>\n",
       "      <td>...</td>\n",
       "    </tr>\n",
       "    <tr>\n",
       "      <th>7194</th>\n",
       "      <td>NaN</td>\n",
       "      <td>10/17/2012</td>\n",
       "      <td>AM 11:7:09</td>\n",
       "      <td>The Reason &lt;e&gt;Ann Romney&lt;/e&gt; And &lt;e&gt;Michelle ...</td>\n",
       "      <td>0</td>\n",
       "      <td>NaN</td>\n",
       "    </tr>\n",
       "    <tr>\n",
       "      <th>7195</th>\n",
       "      <td>NaN</td>\n",
       "      <td>10/17/2012</td>\n",
       "      <td>AM 11:9:13</td>\n",
       "      <td>&lt;e&gt;Obama&lt;/e&gt; Kenakan Cincin Syahadat Sejak SM...</td>\n",
       "      <td>0</td>\n",
       "      <td>NaN</td>\n",
       "    </tr>\n",
       "    <tr>\n",
       "      <th>7196</th>\n",
       "      <td>NaN</td>\n",
       "      <td>10/17/2012</td>\n",
       "      <td>AM 11:11:34</td>\n",
       "      <td>Bitches be like \"Obama&lt;3\" bitches just want &lt;...</td>\n",
       "      <td>0</td>\n",
       "      <td>NaN</td>\n",
       "    </tr>\n",
       "    <tr>\n",
       "      <th>7197</th>\n",
       "      <td>NaN</td>\n",
       "      <td>10/17/2012</td>\n",
       "      <td>AM 11:13:16</td>\n",
       "      <td>&lt;e&gt;president&lt;/e&gt; Barack &lt;e&gt;Obama&lt;/e&gt; and Repu...</td>\n",
       "      <td>2</td>\n",
       "      <td>NaN</td>\n",
       "    </tr>\n",
       "    <tr>\n",
       "      <th>7198</th>\n",
       "      <td>NaN</td>\n",
       "      <td>10/17/2012</td>\n",
       "      <td>AM 11:13:59</td>\n",
       "      <td>#ThatsSoRude you trying to get into Obama's f...</td>\n",
       "      <td>2</td>\n",
       "      <td>NaN</td>\n",
       "    </tr>\n",
       "  </tbody>\n",
       "</table>\n",
       "<p>7199 rows × 6 columns</p>\n",
       "</div>"
      ],
      "text/plain": [
       "      Unnamed: 0                 date            time  \\\n",
       "0            NaN                  NaN             NaN   \n",
       "1            NaN  2012-10-16 00:00:00  10:28:53-05:00   \n",
       "2            NaN  2016-12-10 00:00:00  10:09:00-05:00   \n",
       "3            NaN  2012-10-16 00:00:00  10:04:30-05:00   \n",
       "4            NaN  2012-10-16 00:00:00  10:00:36-05:00   \n",
       "...          ...                  ...             ...   \n",
       "7194         NaN           10/17/2012      AM 11:7:09   \n",
       "7195         NaN           10/17/2012      AM 11:9:13   \n",
       "7196         NaN           10/17/2012     AM 11:11:34   \n",
       "7197         NaN           10/17/2012     AM 11:13:16   \n",
       "7198         NaN           10/17/2012     AM 11:13:59   \n",
       "\n",
       "                                        Anootated tweet Unnamed: 4  Unnamed: 5  \n",
       "0       1: positive, -1: negative, 0: neutral, 2: mixed      Class  Your class  \n",
       "1     Kirkpatrick, who wore a baseball cap embroider...          0         NaN  \n",
       "2     Question: If <e>Romney</e> and <e>Obama</e> ha...          2         NaN  \n",
       "3     #<e>obama</e> debates that Cracker Ass Cracker...          1         NaN  \n",
       "4     RT @davewiner Slate: Blame <e>Obama</e> for fo...          2         NaN  \n",
       "...                                                 ...        ...         ...  \n",
       "7194   The Reason <e>Ann Romney</e> And <e>Michelle ...          0         NaN  \n",
       "7195   <e>Obama</e> Kenakan Cincin Syahadat Sejak SM...          0         NaN  \n",
       "7196   Bitches be like \"Obama<3\" bitches just want <...          0         NaN  \n",
       "7197   <e>president</e> Barack <e>Obama</e> and Repu...          2         NaN  \n",
       "7198   #ThatsSoRude you trying to get into Obama's f...          2         NaN  \n",
       "\n",
       "[7199 rows x 6 columns]"
      ]
     },
     "execution_count": 83,
     "metadata": {},
     "output_type": "execute_result"
    }
   ],
   "source": [
    "df1"
   ]
  },
  {
   "cell_type": "code",
   "execution_count": 84,
   "id": "61effd01",
   "metadata": {},
   "outputs": [
    {
     "data": {
      "text/html": [
       "<div>\n",
       "<style scoped>\n",
       "    .dataframe tbody tr th:only-of-type {\n",
       "        vertical-align: middle;\n",
       "    }\n",
       "\n",
       "    .dataframe tbody tr th {\n",
       "        vertical-align: top;\n",
       "    }\n",
       "\n",
       "    .dataframe thead th {\n",
       "        text-align: right;\n",
       "    }\n",
       "</style>\n",
       "<table border=\"1\" class=\"dataframe\">\n",
       "  <thead>\n",
       "    <tr style=\"text-align: right;\">\n",
       "      <th></th>\n",
       "      <th>Unnamed: 0</th>\n",
       "      <th>date</th>\n",
       "      <th>time</th>\n",
       "      <th>Anootated tweet</th>\n",
       "      <th>Unnamed: 4</th>\n",
       "      <th>Unnamed: 5</th>\n",
       "    </tr>\n",
       "  </thead>\n",
       "  <tbody>\n",
       "    <tr>\n",
       "      <th>0</th>\n",
       "      <td>NaN</td>\n",
       "      <td>NaN</td>\n",
       "      <td>NaN</td>\n",
       "      <td>1: positive, -1: negative, 0: neutral, 2: mixed</td>\n",
       "      <td>Class</td>\n",
       "      <td>Your class label</td>\n",
       "    </tr>\n",
       "    <tr>\n",
       "      <th>1</th>\n",
       "      <td>NaN</td>\n",
       "      <td>2012-10-16 00:00:00</td>\n",
       "      <td>09:38:08-05:00</td>\n",
       "      <td>Insidious!&lt;e&gt;Mitt Romney&lt;/e&gt;'s Bain Helped Phi...</td>\n",
       "      <td>-1</td>\n",
       "      <td>NaN</td>\n",
       "    </tr>\n",
       "    <tr>\n",
       "      <th>2</th>\n",
       "      <td>NaN</td>\n",
       "      <td>2012-10-16 00:00:00</td>\n",
       "      <td>10:22:34-05:00</td>\n",
       "      <td>Senior &lt;e&gt;Romney&lt;/e&gt; Advisor Claims &lt;e&gt;Obama&lt;/...</td>\n",
       "      <td>2</td>\n",
       "      <td>NaN</td>\n",
       "    </tr>\n",
       "    <tr>\n",
       "      <th>3</th>\n",
       "      <td>NaN</td>\n",
       "      <td>2012-10-16 00:00:00</td>\n",
       "      <td>10:14:18-05:00</td>\n",
       "      <td>.@WardBrenda @shortwave8669 @allanbourdius you...</td>\n",
       "      <td>-1</td>\n",
       "      <td>NaN</td>\n",
       "    </tr>\n",
       "    <tr>\n",
       "      <th>4</th>\n",
       "      <td>NaN</td>\n",
       "      <td>2012-10-16 00:00:00</td>\n",
       "      <td>09:27:16-05:00</td>\n",
       "      <td>&lt;e&gt;Mitt Romney&lt;/e&gt; still doesn't &lt;a&gt;believe&lt;/a...</td>\n",
       "      <td>-1</td>\n",
       "      <td>NaN</td>\n",
       "    </tr>\n",
       "    <tr>\n",
       "      <th>...</th>\n",
       "      <td>...</td>\n",
       "      <td>...</td>\n",
       "      <td>...</td>\n",
       "      <td>...</td>\n",
       "      <td>...</td>\n",
       "      <td>...</td>\n",
       "    </tr>\n",
       "    <tr>\n",
       "      <th>7196</th>\n",
       "      <td>NaN</td>\n",
       "      <td>2012-10-17 00:00:00</td>\n",
       "      <td>AM 11:14:20</td>\n",
       "      <td>CNN's John King: After Two Debates\"\" &lt;e&gt;Romney...</td>\n",
       "      <td>1</td>\n",
       "      <td>NaN</td>\n",
       "    </tr>\n",
       "    <tr>\n",
       "      <th>7197</th>\n",
       "      <td>NaN</td>\n",
       "      <td>2012-10-17 00:00:00</td>\n",
       "      <td>AM 11:15:53</td>\n",
       "      <td>el 59 por ciento de las mujeres blancas casada...</td>\n",
       "      <td>0</td>\n",
       "      <td>NaN</td>\n",
       "    </tr>\n",
       "    <tr>\n",
       "      <th>7198</th>\n",
       "      <td>NaN</td>\n",
       "      <td>2012-10-17 00:00:00</td>\n",
       "      <td>AM 11:18:27</td>\n",
       "      <td>@FedericoArreola No vimos perder a &lt;e&gt;Romney&lt;/...</td>\n",
       "      <td>2</td>\n",
       "      <td>NaN</td>\n",
       "    </tr>\n",
       "    <tr>\n",
       "      <th>7199</th>\n",
       "      <td>NaN</td>\n",
       "      <td>2012-10-17 00:00:00</td>\n",
       "      <td>AM 11:20:04</td>\n",
       "      <td>\"And they brought us a whole binder of women\"\"...</td>\n",
       "      <td>-1</td>\n",
       "      <td>NaN</td>\n",
       "    </tr>\n",
       "    <tr>\n",
       "      <th>7200</th>\n",
       "      <td>NaN</td>\n",
       "      <td>2012-10-17 00:00:00</td>\n",
       "      <td>AM 11:21:37</td>\n",
       "      <td>@FoxNews &lt;e&gt;Romney&lt;/e&gt;won\"\"\"</td>\n",
       "      <td>1</td>\n",
       "      <td>NaN</td>\n",
       "    </tr>\n",
       "  </tbody>\n",
       "</table>\n",
       "<p>7201 rows × 6 columns</p>\n",
       "</div>"
      ],
      "text/plain": [
       "      Unnamed: 0                 date            time  \\\n",
       "0            NaN                  NaN             NaN   \n",
       "1            NaN  2012-10-16 00:00:00  09:38:08-05:00   \n",
       "2            NaN  2012-10-16 00:00:00  10:22:34-05:00   \n",
       "3            NaN  2012-10-16 00:00:00  10:14:18-05:00   \n",
       "4            NaN  2012-10-16 00:00:00  09:27:16-05:00   \n",
       "...          ...                  ...             ...   \n",
       "7196         NaN  2012-10-17 00:00:00     AM 11:14:20   \n",
       "7197         NaN  2012-10-17 00:00:00     AM 11:15:53   \n",
       "7198         NaN  2012-10-17 00:00:00     AM 11:18:27   \n",
       "7199         NaN  2012-10-17 00:00:00     AM 11:20:04   \n",
       "7200         NaN  2012-10-17 00:00:00     AM 11:21:37   \n",
       "\n",
       "                                        Anootated tweet Unnamed: 4  \\\n",
       "0       1: positive, -1: negative, 0: neutral, 2: mixed      Class   \n",
       "1     Insidious!<e>Mitt Romney</e>'s Bain Helped Phi...         -1   \n",
       "2     Senior <e>Romney</e> Advisor Claims <e>Obama</...          2   \n",
       "3     .@WardBrenda @shortwave8669 @allanbourdius you...         -1   \n",
       "4     <e>Mitt Romney</e> still doesn't <a>believe</a...         -1   \n",
       "...                                                 ...        ...   \n",
       "7196  CNN's John King: After Two Debates\"\" <e>Romney...          1   \n",
       "7197  el 59 por ciento de las mujeres blancas casada...          0   \n",
       "7198  @FedericoArreola No vimos perder a <e>Romney</...          2   \n",
       "7199  \"And they brought us a whole binder of women\"\"...         -1   \n",
       "7200                       @FoxNews <e>Romney</e>won\"\"\"          1   \n",
       "\n",
       "            Unnamed: 5  \n",
       "0     Your class label  \n",
       "1                  NaN  \n",
       "2                  NaN  \n",
       "3                  NaN  \n",
       "4                  NaN  \n",
       "...                ...  \n",
       "7196               NaN  \n",
       "7197               NaN  \n",
       "7198               NaN  \n",
       "7199               NaN  \n",
       "7200               NaN  \n",
       "\n",
       "[7201 rows x 6 columns]"
      ]
     },
     "execution_count": 84,
     "metadata": {},
     "output_type": "execute_result"
    }
   ],
   "source": [
    "df2"
   ]
  },
  {
   "cell_type": "code",
   "execution_count": 85,
   "id": "76557444",
   "metadata": {},
   "outputs": [],
   "source": [
    "df1 = df1.drop(df1.columns[[0,1,2]], axis = 1)#before='Anootated tweet', after = 'Unnamed: 5', axis = 1)"
   ]
  },
  {
   "cell_type": "code",
   "execution_count": 86,
   "id": "00393df8",
   "metadata": {},
   "outputs": [],
   "source": [
    "df2 = df2.drop(df2.columns[[0,1,2]], axis = 1)#before='Anootated tweet', after = 'Unnamed: 5', axis = 1)"
   ]
  },
  {
   "cell_type": "code",
   "execution_count": 87,
   "id": "9c0c8a07",
   "metadata": {},
   "outputs": [],
   "source": [
    "# # Concatenating the two sheets in excel\n",
    "# initial = [df1,df2]\n",
    "# for i in initial:\n",
    "#     i.columns = ['Anootated tweet', 'Given class', 'Result']\n",
    "# initial = pd.concat(initial).reset_index(drop = True)"
   ]
  },
  {
   "cell_type": "code",
   "execution_count": 88,
   "id": "c01a0fdb",
   "metadata": {},
   "outputs": [],
   "source": [
    "# # Concatenating the two sheets in excel\n",
    "for i in [df1]:\n",
    "    i.columns = ['Anootated tweet', 'Given class', 'Result']"
   ]
  },
  {
   "cell_type": "code",
   "execution_count": 89,
   "id": "33b18f94",
   "metadata": {},
   "outputs": [],
   "source": [
    "# # Concatenating the two sheets in excel\n",
    "for i in [df2]:\n",
    "    i.columns = ['Anootated tweet', 'Given class', 'Result']"
   ]
  },
  {
   "cell_type": "code",
   "execution_count": 90,
   "id": "36a5def3",
   "metadata": {},
   "outputs": [
    {
     "data": {
      "text/html": [
       "<div>\n",
       "<style scoped>\n",
       "    .dataframe tbody tr th:only-of-type {\n",
       "        vertical-align: middle;\n",
       "    }\n",
       "\n",
       "    .dataframe tbody tr th {\n",
       "        vertical-align: top;\n",
       "    }\n",
       "\n",
       "    .dataframe thead th {\n",
       "        text-align: right;\n",
       "    }\n",
       "</style>\n",
       "<table border=\"1\" class=\"dataframe\">\n",
       "  <thead>\n",
       "    <tr style=\"text-align: right;\">\n",
       "      <th></th>\n",
       "      <th>Anootated tweet</th>\n",
       "      <th>Given class</th>\n",
       "      <th>Result</th>\n",
       "    </tr>\n",
       "  </thead>\n",
       "  <tbody>\n",
       "    <tr>\n",
       "      <th>0</th>\n",
       "      <td>1: positive, -1: negative, 0: neutral, 2: mixed</td>\n",
       "      <td>Class</td>\n",
       "      <td>Your class</td>\n",
       "    </tr>\n",
       "    <tr>\n",
       "      <th>1</th>\n",
       "      <td>Kirkpatrick, who wore a baseball cap embroider...</td>\n",
       "      <td>0</td>\n",
       "      <td>NaN</td>\n",
       "    </tr>\n",
       "    <tr>\n",
       "      <th>2</th>\n",
       "      <td>Question: If &lt;e&gt;Romney&lt;/e&gt; and &lt;e&gt;Obama&lt;/e&gt; ha...</td>\n",
       "      <td>2</td>\n",
       "      <td>NaN</td>\n",
       "    </tr>\n",
       "    <tr>\n",
       "      <th>3</th>\n",
       "      <td>#&lt;e&gt;obama&lt;/e&gt; debates that Cracker Ass Cracker...</td>\n",
       "      <td>1</td>\n",
       "      <td>NaN</td>\n",
       "    </tr>\n",
       "    <tr>\n",
       "      <th>4</th>\n",
       "      <td>RT @davewiner Slate: Blame &lt;e&gt;Obama&lt;/e&gt; for fo...</td>\n",
       "      <td>2</td>\n",
       "      <td>NaN</td>\n",
       "    </tr>\n",
       "    <tr>\n",
       "      <th>...</th>\n",
       "      <td>...</td>\n",
       "      <td>...</td>\n",
       "      <td>...</td>\n",
       "    </tr>\n",
       "    <tr>\n",
       "      <th>7194</th>\n",
       "      <td>The Reason &lt;e&gt;Ann Romney&lt;/e&gt; And &lt;e&gt;Michelle ...</td>\n",
       "      <td>0</td>\n",
       "      <td>NaN</td>\n",
       "    </tr>\n",
       "    <tr>\n",
       "      <th>7195</th>\n",
       "      <td>&lt;e&gt;Obama&lt;/e&gt; Kenakan Cincin Syahadat Sejak SM...</td>\n",
       "      <td>0</td>\n",
       "      <td>NaN</td>\n",
       "    </tr>\n",
       "    <tr>\n",
       "      <th>7196</th>\n",
       "      <td>Bitches be like \"Obama&lt;3\" bitches just want &lt;...</td>\n",
       "      <td>0</td>\n",
       "      <td>NaN</td>\n",
       "    </tr>\n",
       "    <tr>\n",
       "      <th>7197</th>\n",
       "      <td>&lt;e&gt;president&lt;/e&gt; Barack &lt;e&gt;Obama&lt;/e&gt; and Repu...</td>\n",
       "      <td>2</td>\n",
       "      <td>NaN</td>\n",
       "    </tr>\n",
       "    <tr>\n",
       "      <th>7198</th>\n",
       "      <td>#ThatsSoRude you trying to get into Obama's f...</td>\n",
       "      <td>2</td>\n",
       "      <td>NaN</td>\n",
       "    </tr>\n",
       "  </tbody>\n",
       "</table>\n",
       "<p>7199 rows × 3 columns</p>\n",
       "</div>"
      ],
      "text/plain": [
       "                                        Anootated tweet Given class  \\\n",
       "0       1: positive, -1: negative, 0: neutral, 2: mixed       Class   \n",
       "1     Kirkpatrick, who wore a baseball cap embroider...           0   \n",
       "2     Question: If <e>Romney</e> and <e>Obama</e> ha...           2   \n",
       "3     #<e>obama</e> debates that Cracker Ass Cracker...           1   \n",
       "4     RT @davewiner Slate: Blame <e>Obama</e> for fo...           2   \n",
       "...                                                 ...         ...   \n",
       "7194   The Reason <e>Ann Romney</e> And <e>Michelle ...           0   \n",
       "7195   <e>Obama</e> Kenakan Cincin Syahadat Sejak SM...           0   \n",
       "7196   Bitches be like \"Obama<3\" bitches just want <...           0   \n",
       "7197   <e>president</e> Barack <e>Obama</e> and Repu...           2   \n",
       "7198   #ThatsSoRude you trying to get into Obama's f...           2   \n",
       "\n",
       "          Result  \n",
       "0     Your class  \n",
       "1            NaN  \n",
       "2            NaN  \n",
       "3            NaN  \n",
       "4            NaN  \n",
       "...          ...  \n",
       "7194         NaN  \n",
       "7195         NaN  \n",
       "7196         NaN  \n",
       "7197         NaN  \n",
       "7198         NaN  \n",
       "\n",
       "[7199 rows x 3 columns]"
      ]
     },
     "execution_count": 90,
     "metadata": {},
     "output_type": "execute_result"
    }
   ],
   "source": [
    "df1"
   ]
  },
  {
   "cell_type": "code",
   "execution_count": 91,
   "id": "5f79e3b4",
   "metadata": {},
   "outputs": [
    {
     "data": {
      "text/html": [
       "<div>\n",
       "<style scoped>\n",
       "    .dataframe tbody tr th:only-of-type {\n",
       "        vertical-align: middle;\n",
       "    }\n",
       "\n",
       "    .dataframe tbody tr th {\n",
       "        vertical-align: top;\n",
       "    }\n",
       "\n",
       "    .dataframe thead th {\n",
       "        text-align: right;\n",
       "    }\n",
       "</style>\n",
       "<table border=\"1\" class=\"dataframe\">\n",
       "  <thead>\n",
       "    <tr style=\"text-align: right;\">\n",
       "      <th></th>\n",
       "      <th>Anootated tweet</th>\n",
       "      <th>Given class</th>\n",
       "      <th>Result</th>\n",
       "    </tr>\n",
       "  </thead>\n",
       "  <tbody>\n",
       "    <tr>\n",
       "      <th>0</th>\n",
       "      <td>1: positive, -1: negative, 0: neutral, 2: mixed</td>\n",
       "      <td>Class</td>\n",
       "      <td>Your class label</td>\n",
       "    </tr>\n",
       "    <tr>\n",
       "      <th>1</th>\n",
       "      <td>Insidious!&lt;e&gt;Mitt Romney&lt;/e&gt;'s Bain Helped Phi...</td>\n",
       "      <td>-1</td>\n",
       "      <td>NaN</td>\n",
       "    </tr>\n",
       "    <tr>\n",
       "      <th>2</th>\n",
       "      <td>Senior &lt;e&gt;Romney&lt;/e&gt; Advisor Claims &lt;e&gt;Obama&lt;/...</td>\n",
       "      <td>2</td>\n",
       "      <td>NaN</td>\n",
       "    </tr>\n",
       "    <tr>\n",
       "      <th>3</th>\n",
       "      <td>.@WardBrenda @shortwave8669 @allanbourdius you...</td>\n",
       "      <td>-1</td>\n",
       "      <td>NaN</td>\n",
       "    </tr>\n",
       "    <tr>\n",
       "      <th>4</th>\n",
       "      <td>&lt;e&gt;Mitt Romney&lt;/e&gt; still doesn't &lt;a&gt;believe&lt;/a...</td>\n",
       "      <td>-1</td>\n",
       "      <td>NaN</td>\n",
       "    </tr>\n",
       "    <tr>\n",
       "      <th>...</th>\n",
       "      <td>...</td>\n",
       "      <td>...</td>\n",
       "      <td>...</td>\n",
       "    </tr>\n",
       "    <tr>\n",
       "      <th>7196</th>\n",
       "      <td>CNN's John King: After Two Debates\"\" &lt;e&gt;Romney...</td>\n",
       "      <td>1</td>\n",
       "      <td>NaN</td>\n",
       "    </tr>\n",
       "    <tr>\n",
       "      <th>7197</th>\n",
       "      <td>el 59 por ciento de las mujeres blancas casada...</td>\n",
       "      <td>0</td>\n",
       "      <td>NaN</td>\n",
       "    </tr>\n",
       "    <tr>\n",
       "      <th>7198</th>\n",
       "      <td>@FedericoArreola No vimos perder a &lt;e&gt;Romney&lt;/...</td>\n",
       "      <td>2</td>\n",
       "      <td>NaN</td>\n",
       "    </tr>\n",
       "    <tr>\n",
       "      <th>7199</th>\n",
       "      <td>\"And they brought us a whole binder of women\"\"...</td>\n",
       "      <td>-1</td>\n",
       "      <td>NaN</td>\n",
       "    </tr>\n",
       "    <tr>\n",
       "      <th>7200</th>\n",
       "      <td>@FoxNews &lt;e&gt;Romney&lt;/e&gt;won\"\"\"</td>\n",
       "      <td>1</td>\n",
       "      <td>NaN</td>\n",
       "    </tr>\n",
       "  </tbody>\n",
       "</table>\n",
       "<p>7201 rows × 3 columns</p>\n",
       "</div>"
      ],
      "text/plain": [
       "                                        Anootated tweet Given class  \\\n",
       "0       1: positive, -1: negative, 0: neutral, 2: mixed       Class   \n",
       "1     Insidious!<e>Mitt Romney</e>'s Bain Helped Phi...          -1   \n",
       "2     Senior <e>Romney</e> Advisor Claims <e>Obama</...           2   \n",
       "3     .@WardBrenda @shortwave8669 @allanbourdius you...          -1   \n",
       "4     <e>Mitt Romney</e> still doesn't <a>believe</a...          -1   \n",
       "...                                                 ...         ...   \n",
       "7196  CNN's John King: After Two Debates\"\" <e>Romney...           1   \n",
       "7197  el 59 por ciento de las mujeres blancas casada...           0   \n",
       "7198  @FedericoArreola No vimos perder a <e>Romney</...           2   \n",
       "7199  \"And they brought us a whole binder of women\"\"...          -1   \n",
       "7200                       @FoxNews <e>Romney</e>won\"\"\"           1   \n",
       "\n",
       "                Result  \n",
       "0     Your class label  \n",
       "1                  NaN  \n",
       "2                  NaN  \n",
       "3                  NaN  \n",
       "4                  NaN  \n",
       "...                ...  \n",
       "7196               NaN  \n",
       "7197               NaN  \n",
       "7198               NaN  \n",
       "7199               NaN  \n",
       "7200               NaN  \n",
       "\n",
       "[7201 rows x 3 columns]"
      ]
     },
     "execution_count": 91,
     "metadata": {},
     "output_type": "execute_result"
    }
   ],
   "source": [
    "df2"
   ]
  },
  {
   "cell_type": "code",
   "execution_count": 92,
   "id": "df2262f7",
   "metadata": {},
   "outputs": [],
   "source": [
    "#Converting text to lower case\n",
    "df1['Anootated tweet'] = df1['Anootated tweet'].str.lower()"
   ]
  },
  {
   "cell_type": "code",
   "execution_count": 93,
   "id": "17952130",
   "metadata": {},
   "outputs": [],
   "source": [
    "#Converting text to lower case\n",
    "df2['Anootated tweet'] = df2['Anootated tweet'].str.lower()"
   ]
  },
  {
   "cell_type": "code",
   "execution_count": 94,
   "id": "b87ee969",
   "metadata": {},
   "outputs": [],
   "source": [
    "# list of stop words\n",
    "stop_list = stopwords.words('english')"
   ]
  },
  {
   "cell_type": "code",
   "execution_count": 95,
   "id": "a0820a07",
   "metadata": {},
   "outputs": [],
   "source": [
    "# Remove stop words from text\n",
    "df1['Anootated tweet'] = df1['Anootated tweet'].apply(lambda x: \" \".join([word for word in str(x).split() if word not in stop_list]))"
   ]
  },
  {
   "cell_type": "code",
   "execution_count": 96,
   "id": "1bf49785",
   "metadata": {},
   "outputs": [],
   "source": [
    "# Remove stop words from text\n",
    "df2['Anootated tweet'] = df2['Anootated tweet'].apply(lambda x: \" \".join([word for word in str(x).split() if word not in stop_list]))"
   ]
  },
  {
   "cell_type": "code",
   "execution_count": 97,
   "id": "ebb3689d",
   "metadata": {},
   "outputs": [],
   "source": [
    "tweets = []\n",
    "for tweet in df1['Anootated tweet']:\n",
    "    tweet = re.sub(\"@[A-Za-z0-9_*]+\",\"\", str(tweet))\n",
    "    tweet = re.sub(r\"(?:\\@|http?\\://|https?\\://|www)\\S+\", \"\", tweet)\n",
    "    tweet = tweet.replace(\"#\", \"\").replace(\"_\", \" \").replace(\"'\", \"\")\n",
    "    tweet = re.sub(\"[\\W_]\", \" \", tweet)    \n",
    "    tweet = word_tokenize(tweet)\n",
    "    tweet = \" \".join(tweet)\n",
    "    tweets.append(tweet)\n",
    "df1['Anootated tweet'] = tweets"
   ]
  },
  {
   "cell_type": "code",
   "execution_count": 98,
   "id": "3e161c8e",
   "metadata": {},
   "outputs": [],
   "source": [
    "tweets = []\n",
    "for tweet in df2['Anootated tweet']:\n",
    "    tweet = re.sub(\"@[A-Za-z0-9_*]+\",\"\", str(tweet))\n",
    "    tweet = re.sub(r\"(?:\\@|http?\\://|https?\\://|www)\\S+\", \"\", tweet)\n",
    "    tweet = tweet.replace(\"#\", \"\").replace(\"_\", \" \").replace(\"'\", \"\")\n",
    "    tweet = re.sub(\"[\\W_]\", \" \", tweet)    \n",
    "    tweet = word_tokenize(tweet)\n",
    "    tweet = \" \".join(tweet)\n",
    "    tweets.append(tweet)\n",
    "df2['Anootated tweet'] = tweets"
   ]
  },
  {
   "cell_type": "code",
   "execution_count": 99,
   "id": "94e98733",
   "metadata": {},
   "outputs": [],
   "source": [
    "#Stemming\n",
    "st = PorterStemmer()\n",
    "df1['Anootated tweet'] = df1['Anootated tweet'].apply(lambda x: \" \".join([st.stem(word) for word in x.split()]))\n"
   ]
  },
  {
   "cell_type": "code",
   "execution_count": 100,
   "id": "fda2e21d",
   "metadata": {},
   "outputs": [],
   "source": [
    "#Stemming\n",
    "df2['Anootated tweet'] = df2['Anootated tweet'].apply(lambda x: \" \".join([st.stem(word) for word in x.split()]))\n"
   ]
  },
  {
   "cell_type": "code",
   "execution_count": 101,
   "id": "0d1956f6",
   "metadata": {},
   "outputs": [],
   "source": [
    "#Deleting single length characters\n",
    "df1['Anootated tweet'] = df1['Anootated tweet'].apply(lambda x: \" \".join([word for word in x.split() if len(word)>1]))"
   ]
  },
  {
   "cell_type": "code",
   "execution_count": 102,
   "id": "f29b9664",
   "metadata": {},
   "outputs": [],
   "source": [
    "#Deleting single length characters\n",
    "df2['Anootated tweet'] = df2['Anootated tweet'].apply(lambda x: \" \".join([word for word in x.split() if len(word)>1]))"
   ]
  },
  {
   "cell_type": "code",
   "execution_count": 103,
   "id": "5b523e04",
   "metadata": {},
   "outputs": [],
   "source": [
    "df3 = df1[df1['Given class'].isin([-1, 0, 1])]"
   ]
  },
  {
   "cell_type": "code",
   "execution_count": 104,
   "id": "4bca54d2",
   "metadata": {},
   "outputs": [],
   "source": [
    "df4 = df2[df2['Given class'].isin([-1, 0, 1])]"
   ]
  },
  {
   "cell_type": "code",
   "execution_count": 105,
   "id": "609c9e88",
   "metadata": {},
   "outputs": [
    {
     "data": {
      "text/html": [
       "<div>\n",
       "<style scoped>\n",
       "    .dataframe tbody tr th:only-of-type {\n",
       "        vertical-align: middle;\n",
       "    }\n",
       "\n",
       "    .dataframe tbody tr th {\n",
       "        vertical-align: top;\n",
       "    }\n",
       "\n",
       "    .dataframe thead th {\n",
       "        text-align: right;\n",
       "    }\n",
       "</style>\n",
       "<table border=\"1\" class=\"dataframe\">\n",
       "  <thead>\n",
       "    <tr style=\"text-align: right;\">\n",
       "      <th></th>\n",
       "      <th>Anootated tweet</th>\n",
       "      <th>Given class</th>\n",
       "      <th>Result</th>\n",
       "    </tr>\n",
       "  </thead>\n",
       "  <tbody>\n",
       "    <tr>\n",
       "      <th>1</th>\n",
       "      <td>kirkpatrick wore basebal cap embroid barack ob...</td>\n",
       "      <td>0</td>\n",
       "      <td>NaN</td>\n",
       "    </tr>\n",
       "    <tr>\n",
       "      <th>3</th>\n",
       "      <td>obama debat cracker ass cracker tonight tune i...</td>\n",
       "      <td>1</td>\n",
       "      <td>NaN</td>\n",
       "    </tr>\n",
       "    <tr>\n",
       "      <th>5</th>\n",
       "      <td>your miss point im afraid understand bigger pi...</td>\n",
       "      <td>0</td>\n",
       "      <td>NaN</td>\n",
       "    </tr>\n",
       "    <tr>\n",
       "      <th>7</th>\n",
       "      <td>rais democrat left parti year ago 1980 lifetim...</td>\n",
       "      <td>-1</td>\n",
       "      <td>NaN</td>\n",
       "    </tr>\n",
       "    <tr>\n",
       "      <th>8</th>\n",
       "      <td>obama camp cant afford lower expect tonight de...</td>\n",
       "      <td>0</td>\n",
       "      <td>NaN</td>\n",
       "    </tr>\n",
       "  </tbody>\n",
       "</table>\n",
       "</div>"
      ],
      "text/plain": [
       "                                     Anootated tweet Given class Result\n",
       "1  kirkpatrick wore basebal cap embroid barack ob...           0    NaN\n",
       "3  obama debat cracker ass cracker tonight tune i...           1    NaN\n",
       "5  your miss point im afraid understand bigger pi...           0    NaN\n",
       "7  rais democrat left parti year ago 1980 lifetim...          -1    NaN\n",
       "8  obama camp cant afford lower expect tonight de...           0    NaN"
      ]
     },
     "execution_count": 105,
     "metadata": {},
     "output_type": "execute_result"
    }
   ],
   "source": [
    "#df1\n",
    "df3.head()"
   ]
  },
  {
   "cell_type": "code",
   "execution_count": 106,
   "id": "333fd533",
   "metadata": {},
   "outputs": [
    {
     "data": {
      "text/html": [
       "<div>\n",
       "<style scoped>\n",
       "    .dataframe tbody tr th:only-of-type {\n",
       "        vertical-align: middle;\n",
       "    }\n",
       "\n",
       "    .dataframe tbody tr th {\n",
       "        vertical-align: top;\n",
       "    }\n",
       "\n",
       "    .dataframe thead th {\n",
       "        text-align: right;\n",
       "    }\n",
       "</style>\n",
       "<table border=\"1\" class=\"dataframe\">\n",
       "  <thead>\n",
       "    <tr style=\"text-align: right;\">\n",
       "      <th></th>\n",
       "      <th>Anootated tweet</th>\n",
       "      <th>Given class</th>\n",
       "      <th>Result</th>\n",
       "    </tr>\n",
       "  </thead>\n",
       "  <tbody>\n",
       "    <tr>\n",
       "      <th>1</th>\n",
       "      <td>insidi mitt romney bain help philip morri get ...</td>\n",
       "      <td>-1</td>\n",
       "      <td>NaN</td>\n",
       "    </tr>\n",
       "    <tr>\n",
       "      <th>3</th>\n",
       "      <td>mean like romney cheat primari</td>\n",
       "      <td>-1</td>\n",
       "      <td>NaN</td>\n",
       "    </tr>\n",
       "    <tr>\n",
       "      <th>4</th>\n",
       "      <td>mitt romney still believ have black presid</td>\n",
       "      <td>-1</td>\n",
       "      <td>NaN</td>\n",
       "    </tr>\n",
       "    <tr>\n",
       "      <th>5</th>\n",
       "      <td>romney tax plan deserv 2nd look secret one tha...</td>\n",
       "      <td>-1</td>\n",
       "      <td>NaN</td>\n",
       "    </tr>\n",
       "    <tr>\n",
       "      <th>6</th>\n",
       "      <td>hope romney debat prep peopl last time</td>\n",
       "      <td>1</td>\n",
       "      <td>NaN</td>\n",
       "    </tr>\n",
       "  </tbody>\n",
       "</table>\n",
       "</div>"
      ],
      "text/plain": [
       "                                     Anootated tweet Given class Result\n",
       "1  insidi mitt romney bain help philip morri get ...          -1    NaN\n",
       "3                     mean like romney cheat primari          -1    NaN\n",
       "4         mitt romney still believ have black presid          -1    NaN\n",
       "5  romney tax plan deserv 2nd look secret one tha...          -1    NaN\n",
       "6             hope romney debat prep peopl last time           1    NaN"
      ]
     },
     "execution_count": 106,
     "metadata": {},
     "output_type": "execute_result"
    }
   ],
   "source": [
    "#df2\n",
    "df4.head()"
   ]
  },
  {
   "cell_type": "code",
   "execution_count": 107,
   "id": "0a69e887",
   "metadata": {},
   "outputs": [
    {
     "name": "stdout",
     "output_type": "stream",
     "text": [
      "(5471, 3)\n",
      "(5648, 3)\n"
     ]
    }
   ],
   "source": [
    "print(df3.shape)\n",
    "print(df4.shape)"
   ]
  },
  {
   "cell_type": "code",
   "execution_count": 108,
   "id": "40cbadd7",
   "metadata": {},
   "outputs": [
    {
     "data": {
      "text/plain": [
       "Anootated tweet    object\n",
       "Given class        object\n",
       "Result             object\n",
       "dtype: object"
      ]
     },
     "execution_count": 108,
     "metadata": {},
     "output_type": "execute_result"
    }
   ],
   "source": [
    "df3.dtypes"
   ]
  },
  {
   "cell_type": "code",
   "execution_count": 109,
   "id": "32cca4b8",
   "metadata": {},
   "outputs": [
    {
     "data": {
      "text/plain": [
       "Anootated tweet    object\n",
       "Given class        object\n",
       "Result             object\n",
       "dtype: object"
      ]
     },
     "execution_count": 109,
     "metadata": {},
     "output_type": "execute_result"
    }
   ],
   "source": [
    "df4.dtypes"
   ]
  },
  {
   "cell_type": "code",
   "execution_count": 110,
   "id": "e13a6fd4",
   "metadata": {},
   "outputs": [],
   "source": [
    "df3 = df3.infer_objects()"
   ]
  },
  {
   "cell_type": "code",
   "execution_count": 111,
   "id": "218631fd",
   "metadata": {},
   "outputs": [],
   "source": [
    "df4 = df4.infer_objects()"
   ]
  },
  {
   "cell_type": "code",
   "execution_count": 112,
   "id": "9810dc0a",
   "metadata": {},
   "outputs": [
    {
     "data": {
      "text/plain": [
       "Anootated tweet     object\n",
       "Given class          int64\n",
       "Result             float64\n",
       "dtype: object"
      ]
     },
     "execution_count": 112,
     "metadata": {},
     "output_type": "execute_result"
    }
   ],
   "source": [
    "df3.dtypes"
   ]
  },
  {
   "cell_type": "code",
   "execution_count": 113,
   "id": "6c596a36",
   "metadata": {},
   "outputs": [
    {
     "data": {
      "text/plain": [
       "Anootated tweet     object\n",
       "Given class          int64\n",
       "Result             float64\n",
       "dtype: object"
      ]
     },
     "execution_count": 113,
     "metadata": {},
     "output_type": "execute_result"
    }
   ],
   "source": [
    "df4.dtypes"
   ]
  },
  {
   "cell_type": "code",
   "execution_count": 114,
   "id": "7dce9500",
   "metadata": {},
   "outputs": [],
   "source": [
    "def get_feature_vector(train_fit):\n",
    "     vector = TfidfVectorizer(sublinear_tf=True)\n",
    "     vector.fit(train_fit)\n",
    "     return vector"
   ]
  },
  {
   "cell_type": "code",
   "execution_count": 115,
   "id": "39c1777d",
   "metadata": {},
   "outputs": [],
   "source": [
    "tf_vector1 = get_feature_vector(np.array(df3.iloc[:, 0]).ravel())\n",
    "X1 = tf_vector1.transform(np.array(df3.iloc[:, 0]).ravel())\n",
    "Y1 = np.array(df3.iloc[:, 1]).ravel()"
   ]
  },
  {
   "cell_type": "code",
   "execution_count": 116,
   "id": "c30927aa",
   "metadata": {},
   "outputs": [],
   "source": [
    "tf_vector2 = get_feature_vector(np.array(df4.iloc[:, 0]).ravel())\n",
    "X2 = tf_vector2.transform(np.array(df4.iloc[:, 0]).ravel())\n",
    "Y2 = np.array(df4.iloc[:, 1]).ravel()"
   ]
  },
  {
   "cell_type": "code",
   "execution_count": 117,
   "id": "c6f53bc9",
   "metadata": {},
   "outputs": [
    {
     "data": {
      "text/plain": [
       "<5471x6924 sparse matrix of type '<class 'numpy.float64'>'\n",
       "\twith 49273 stored elements in Compressed Sparse Row format>"
      ]
     },
     "execution_count": 117,
     "metadata": {},
     "output_type": "execute_result"
    }
   ],
   "source": [
    "X1"
   ]
  },
  {
   "cell_type": "code",
   "execution_count": 118,
   "id": "b11e484a",
   "metadata": {},
   "outputs": [
    {
     "data": {
      "text/plain": [
       "array([0, 1, 0, ..., 0, 0, 0], dtype=int64)"
      ]
     },
     "execution_count": 118,
     "metadata": {},
     "output_type": "execute_result"
    }
   ],
   "source": [
    "Y1"
   ]
  },
  {
   "cell_type": "code",
   "execution_count": 119,
   "id": "d1ede88a",
   "metadata": {},
   "outputs": [
    {
     "data": {
      "text/plain": [
       "<5648x6438 sparse matrix of type '<class 'numpy.float64'>'\n",
       "\twith 51794 stored elements in Compressed Sparse Row format>"
      ]
     },
     "execution_count": 119,
     "metadata": {},
     "output_type": "execute_result"
    }
   ],
   "source": [
    "X2"
   ]
  },
  {
   "cell_type": "code",
   "execution_count": 120,
   "id": "62cfa065",
   "metadata": {},
   "outputs": [
    {
     "data": {
      "text/plain": [
       "array([-1, -1, -1, ...,  0, -1,  1], dtype=int64)"
      ]
     },
     "execution_count": 120,
     "metadata": {},
     "output_type": "execute_result"
    }
   ],
   "source": [
    "Y2"
   ]
  },
  {
   "cell_type": "code",
   "execution_count": 121,
   "id": "5a47aa71",
   "metadata": {},
   "outputs": [],
   "source": [
    "# # Dividing it into training and validation and then to implement the model - Obama\n",
    "X_train1, X_valid1, Y_train1, Y_valid1 = train_test_split(X1, Y1, test_size = 0.20, random_state = 0)"
   ]
  },
  {
   "cell_type": "code",
   "execution_count": 122,
   "id": "9b1d4c35",
   "metadata": {},
   "outputs": [],
   "source": [
    "# # Dividing it into training and validation and then to implement the model - Romney\n",
    "X_train2, X_valid2, Y_train2, Y_valid2 = train_test_split(X2, Y2, test_size = 0.20, random_state = 0)"
   ]
  },
  {
   "cell_type": "code",
   "execution_count": 123,
   "id": "a7a43359",
   "metadata": {},
   "outputs": [
    {
     "name": "stdout",
     "output_type": "stream",
     "text": [
      "0.589041095890411\n"
     ]
    }
   ],
   "source": [
    "# Bayesian model\n",
    "NB_model = MultinomialNB()\n",
    "NB_model.fit(X_train1, Y_train1)\n",
    "y_predict_nb = NB_model.predict(X_valid1)\n",
    "print(accuracy_score(Y_valid1, y_predict_nb))"
   ]
  },
  {
   "cell_type": "code",
   "execution_count": 124,
   "id": "bd9cd4ed",
   "metadata": {},
   "outputs": [
    {
     "name": "stdout",
     "output_type": "stream",
     "text": [
      "0.5601769911504425\n"
     ]
    }
   ],
   "source": [
    "# Bayesian model\n",
    "NB_model = MultinomialNB()\n",
    "NB_model.fit(X_train2, Y_train2)\n",
    "y_predict_nb = NB_model.predict(X_valid2)\n",
    "print(accuracy_score(Y_valid2, y_predict_nb))"
   ]
  },
  {
   "cell_type": "code",
   "execution_count": 125,
   "id": "33692e7d",
   "metadata": {},
   "outputs": [
    {
     "name": "stdout",
     "output_type": "stream",
     "text": [
      "0.6036529680365297\n",
      "[[255  99  37]\n",
      " [ 88 209  66]\n",
      " [ 51  93 197]]\n",
      "              precision    recall  f1-score   support\n",
      "\n",
      "          -1       0.65      0.65      0.65       391\n",
      "           0       0.52      0.58      0.55       363\n",
      "           1       0.66      0.58      0.61       341\n",
      "\n",
      "    accuracy                           0.60      1095\n",
      "   macro avg       0.61      0.60      0.60      1095\n",
      "weighted avg       0.61      0.60      0.60      1095\n",
      "\n"
     ]
    }
   ],
   "source": [
    "# Linear regression model\n",
    "LR_model = LogisticRegression(solver='lbfgs',max_iter=10000)\n",
    "LR_model.fit(X_train1, Y_train1)\n",
    "y_predict_lr = LR_model.predict(X_valid1)\n",
    "print(accuracy_score(Y_valid1, y_predict_lr))\n",
    "print(confusion_matrix(Y_valid1, y_predict_lr))\n",
    "print(classification_report(Y_valid1, y_predict_lr))"
   ]
  },
  {
   "cell_type": "code",
   "execution_count": 126,
   "id": "3255d124",
   "metadata": {},
   "outputs": [
    {
     "name": "stdout",
     "output_type": "stream",
     "text": [
      "0.5902654867256637\n",
      "[[497  64  17]\n",
      " [198 104  24]\n",
      " [117  43  66]]\n",
      "              precision    recall  f1-score   support\n",
      "\n",
      "          -1       0.61      0.86      0.72       578\n",
      "           0       0.49      0.32      0.39       326\n",
      "           1       0.62      0.29      0.40       226\n",
      "\n",
      "    accuracy                           0.59      1130\n",
      "   macro avg       0.57      0.49      0.50      1130\n",
      "weighted avg       0.58      0.59      0.56      1130\n",
      "\n"
     ]
    }
   ],
   "source": [
    "# Linear regression model\n",
    "LR_model = LogisticRegression(solver='lbfgs',max_iter=10000)\n",
    "LR_model.fit(X_train2, Y_train2)\n",
    "y_predict_lr = LR_model.predict(X_valid2)\n",
    "print(accuracy_score(Y_valid2, y_predict_lr))\n",
    "print(confusion_matrix(Y_valid2, y_predict_lr))\n",
    "print(classification_report(Y_valid2, y_predict_lr))"
   ]
  },
  {
   "cell_type": "code",
   "execution_count": 130,
   "id": "b2652f83",
   "metadata": {},
   "outputs": [
    {
     "name": "stdout",
     "output_type": "stream",
     "text": [
      "0.5744292237442923\n",
      "[[204 136  51]\n",
      " [ 64 242  57]\n",
      " [ 48 110 183]]\n",
      "              precision    recall  f1-score   support\n",
      "\n",
      "          -1       0.65      0.52      0.58       391\n",
      "           0       0.50      0.67      0.57       363\n",
      "           1       0.63      0.54      0.58       341\n",
      "\n",
      "    accuracy                           0.57      1095\n",
      "   macro avg       0.59      0.58      0.57      1095\n",
      "weighted avg       0.59      0.57      0.57      1095\n",
      "\n"
     ]
    }
   ],
   "source": [
    "# Random forest model - Obama\n",
    "RF_model = RandomForestClassifier(n_estimators=200)\n",
    "RF_model.fit(X_train1,Y_train1)\n",
    "y_predict_rf = RF_model.predict(X_valid1)\n",
    "print(accuracy_score(Y_valid1, y_predict_rf))\n",
    "print(confusion_matrix(Y_valid1, y_predict_rf))\n",
    "print(classification_report(Y_valid1, y_predict_rf))\n"
   ]
  },
  {
   "cell_type": "code",
   "execution_count": 131,
   "id": "0d6f520a",
   "metadata": {},
   "outputs": [
    {
     "name": "stdout",
     "output_type": "stream",
     "text": [
      "0.5814159292035398\n",
      "[[514  54  10]\n",
      " [233  74  19]\n",
      " [135  22  69]]\n",
      "              precision    recall  f1-score   support\n",
      "\n",
      "          -1       0.58      0.89      0.70       578\n",
      "           0       0.49      0.23      0.31       326\n",
      "           1       0.70      0.31      0.43       226\n",
      "\n",
      "    accuracy                           0.58      1130\n",
      "   macro avg       0.59      0.47      0.48      1130\n",
      "weighted avg       0.58      0.58      0.54      1130\n",
      "\n"
     ]
    }
   ],
   "source": [
    "# Random forest model - Romney\n",
    "RF_model = RandomForestClassifier(n_estimators=200)\n",
    "RF_model.fit(X_train2,Y_train2)\n",
    "y_predict_rf = RF_model.predict(X_valid2)\n",
    "print(accuracy_score(Y_valid2, y_predict_rf))\n",
    "print(confusion_matrix(Y_valid2, y_predict_rf))\n",
    "print(classification_report(Y_valid2, y_predict_rf))"
   ]
  },
  {
   "cell_type": "code",
   "execution_count": 135,
   "id": "93f25aa3",
   "metadata": {},
   "outputs": [
    {
     "name": "stdout",
     "output_type": "stream",
     "text": [
      "0.6136986301369863\n",
      "[[264  99  28]\n",
      " [ 86 229  48]\n",
      " [ 54 108 179]]\n",
      "              precision    recall  f1-score   support\n",
      "\n",
      "          -1       0.65      0.68      0.66       391\n",
      "           0       0.53      0.63      0.57       363\n",
      "           1       0.70      0.52      0.60       341\n",
      "\n",
      "    accuracy                           0.61      1095\n",
      "   macro avg       0.63      0.61      0.61      1095\n",
      "weighted avg       0.63      0.61      0.61      1095\n",
      "\n"
     ]
    }
   ],
   "source": [
    "# support vector classification - Obama\n",
    "SVCmodel = SVC()\n",
    "SVCmodel.fit(X_train1,Y_train1)\n",
    "y_predict_svc = SVCmodel.predict(X_valid1)\n",
    "print(accuracy_score(Y_valid1, y_predict_svc))\n",
    "print(confusion_matrix(Y_valid1, y_predict_svc))\n",
    "print(classification_report(Y_valid1, y_predict_svc))"
   ]
  },
  {
   "cell_type": "code",
   "execution_count": 136,
   "id": "2f041e9d",
   "metadata": {},
   "outputs": [
    {
     "name": "stdout",
     "output_type": "stream",
     "text": [
      "0.588495575221239\n",
      "[[541  30   7]\n",
      " [238  68  20]\n",
      " [154  16  56]]\n",
      "              precision    recall  f1-score   support\n",
      "\n",
      "          -1       0.58      0.94      0.72       578\n",
      "           0       0.60      0.21      0.31       326\n",
      "           1       0.67      0.25      0.36       226\n",
      "\n",
      "    accuracy                           0.59      1130\n",
      "   macro avg       0.62      0.46      0.46      1130\n",
      "weighted avg       0.60      0.59      0.53      1130\n",
      "\n"
     ]
    }
   ],
   "source": [
    "# support vector classification - Romney\n",
    "SVCmodel = SVC()\n",
    "SVCmodel.fit(X_train2,Y_train2)\n",
    "y_predict_svc = SVCmodel.predict(X_valid2)\n",
    "print(accuracy_score(Y_valid2, y_predict_svc))\n",
    "print(confusion_matrix(Y_valid2, y_predict_svc))\n",
    "print(classification_report(Y_valid2, y_predict_svc))"
   ]
  },
  {
   "cell_type": "code",
   "execution_count": null,
   "id": "4b6b3e48",
   "metadata": {},
   "outputs": [],
   "source": []
  },
  {
   "cell_type": "code",
   "execution_count": null,
   "id": "9c1d6f2d",
   "metadata": {},
   "outputs": [],
   "source": []
  },
  {
   "cell_type": "code",
   "execution_count": 75,
   "id": "3863743e",
   "metadata": {},
   "outputs": [],
   "source": [
    "# Dividing it into training and validation and then to implement the model - Obama\n",
    "X_train1, X_valid1, Y_train1, Y_valid1 = train_test_split(df3['Anootated tweet'].values, df3['Given class'].values, test_size = 0.20, random_state = 0)"
   ]
  },
  {
   "cell_type": "code",
   "execution_count": 76,
   "id": "42956480",
   "metadata": {},
   "outputs": [],
   "source": [
    "# Dividing it into training and validation and then to implement the model - Romney\n",
    "X_train2, X_valid2, Y_train2, Y_valid2 = train_test_split(df4['Anootated tweet'].values, df4['Given class'].values, test_size = 0.20, random_state = 0)"
   ]
  },
  {
   "cell_type": "code",
   "execution_count": 77,
   "id": "6487f6ef",
   "metadata": {},
   "outputs": [
    {
     "name": "stdout",
     "output_type": "stream",
     "text": [
      "0.6009132420091324\n",
      "[[286  72  33]\n",
      " [112 185  66]\n",
      " [ 68  86 187]]\n",
      "              precision    recall  f1-score   support\n",
      "\n",
      "          -1       0.61      0.73      0.67       391\n",
      "           0       0.54      0.51      0.52       363\n",
      "           1       0.65      0.55      0.60       341\n",
      "\n",
      "    accuracy                           0.60      1095\n",
      "   macro avg       0.60      0.60      0.60      1095\n",
      "weighted avg       0.60      0.60      0.60      1095\n",
      "\n"
     ]
    }
   ],
   "source": [
    "# Bayesian model - Obama\n",
    "nb = Pipeline([('vectorize', CountVectorizer(ngram_range=(1, 2))),\n",
    "               ('tfidf', TfidfTransformer()),\n",
    "               ('clf', MultinomialNB()),\n",
    "              ])\n",
    "nb.fit(X_train1, Y_train1)\n",
    "y_pred_nb = nb.predict(X_valid1)\n",
    "print(accuracy_score(Y_valid1, y_pred_nb))\n",
    "print(confusion_matrix(Y_valid1, y_pred_nb))\n",
    "print(classification_report(Y_valid1, y_pred_nb))"
   ]
  },
  {
   "cell_type": "code",
   "execution_count": 78,
   "id": "5b7a77cb",
   "metadata": {},
   "outputs": [
    {
     "name": "stdout",
     "output_type": "stream",
     "text": [
      "0.5530973451327433\n",
      "[[569   7   2]\n",
      " [294  28   4]\n",
      " [191   7  28]]\n",
      "              precision    recall  f1-score   support\n",
      "\n",
      "          -1       0.54      0.98      0.70       578\n",
      "           0       0.67      0.09      0.15       326\n",
      "           1       0.82      0.12      0.22       226\n",
      "\n",
      "    accuracy                           0.55      1130\n",
      "   macro avg       0.68      0.40      0.35      1130\n",
      "weighted avg       0.63      0.55      0.44      1130\n",
      "\n"
     ]
    }
   ],
   "source": [
    "# Bayesian model - Romney\n",
    "nb = Pipeline([('vectorize', CountVectorizer(ngram_range=(1, 2))),\n",
    "               ('tfidf', TfidfTransformer()),\n",
    "               ('clf', MultinomialNB()),\n",
    "              ])\n",
    "nb.fit(X_train2, Y_train2)\n",
    "y_pred_nb = nb.predict(X_valid2)\n",
    "print(accuracy_score(Y_valid2, y_pred_nb))\n",
    "print(confusion_matrix(Y_valid2, y_pred_nb))\n",
    "print(classification_report(Y_valid2, y_pred_nb))"
   ]
  },
  {
   "cell_type": "code",
   "execution_count": 37,
   "id": "1552713b",
   "metadata": {},
   "outputs": [
    {
     "name": "stdout",
     "output_type": "stream",
     "text": [
      "0.6191780821917808\n",
      "[[256  80  55]\n",
      " [ 89 205  69]\n",
      " [ 44  80 217]]\n",
      "              precision    recall  f1-score   support\n",
      "\n",
      "          -1       0.66      0.65      0.66       391\n",
      "           0       0.56      0.56      0.56       363\n",
      "           1       0.64      0.64      0.64       341\n",
      "\n",
      "    accuracy                           0.62      1095\n",
      "   macro avg       0.62      0.62      0.62      1095\n",
      "weighted avg       0.62      0.62      0.62      1095\n",
      "\n"
     ]
    }
   ],
   "source": [
    "# Logistic regression model - Obama\n",
    "logreg_Obama = Pipeline([('vect', CountVectorizer(ngram_range=(1, 2))),\n",
    "                ('tfidf', TfidfTransformer()),\n",
    "                ('clf', LogisticRegression(max_iter=1000)),\n",
    "               ])\n",
    "logreg_Obama.fit(X_train1, Y_train1)\n",
    "y_pred_log_Obama = logreg_Obama.predict(X_valid1)\n",
    "print(accuracy_score(Y_valid1, y_pred_log_Obama))\n",
    "print(confusion_matrix(Y_valid1, y_pred_log_Obama))\n",
    "print(classification_report(Y_valid1, y_pred_log_Obama))"
   ]
  },
  {
   "cell_type": "code",
   "execution_count": 38,
   "id": "d5d6b8f2",
   "metadata": {},
   "outputs": [
    {
     "name": "stdout",
     "output_type": "stream",
     "text": [
      "0.6070796460176991\n",
      "[[511  50  17]\n",
      " [203 103  20]\n",
      " [120  34  72]]\n",
      "              precision    recall  f1-score   support\n",
      "\n",
      "          -1       0.61      0.88      0.72       578\n",
      "           0       0.55      0.32      0.40       326\n",
      "           1       0.66      0.32      0.43       226\n",
      "\n",
      "    accuracy                           0.61      1130\n",
      "   macro avg       0.61      0.51      0.52      1130\n",
      "weighted avg       0.60      0.61      0.57      1130\n",
      "\n"
     ]
    }
   ],
   "source": [
    "# Logistic regression model - Romney\n",
    "logreg_Romney = Pipeline([('vect', CountVectorizer(ngram_range=(1, 2))),\n",
    "                ('tfidf', TfidfTransformer()),\n",
    "                ('clf', LogisticRegression(max_iter=1000)),\n",
    "               ])\n",
    "logreg_Romney.fit(X_train2, Y_train2)\n",
    "y_pred_log_Romney = logreg_Romney.predict(X_valid2)\n",
    "print(accuracy_score(Y_valid2, y_pred_log_Romney))\n",
    "print(confusion_matrix(Y_valid2, y_pred_log_Romney))\n",
    "print(classification_report(Y_valid2, y_pred_log_Romney))"
   ]
  },
  {
   "cell_type": "code",
   "execution_count": 51,
   "id": "d3dbe31b",
   "metadata": {},
   "outputs": [
    {
     "name": "stdout",
     "output_type": "stream",
     "text": [
      "[-1  0  1 ... -1  0 -1]\n"
     ]
    }
   ],
   "source": [
    "# print(y_pred_log)"
   ]
  },
  {
   "cell_type": "code",
   "execution_count": 52,
   "id": "c574601d",
   "metadata": {},
   "outputs": [
    {
     "name": "stdout",
     "output_type": "stream",
     "text": [
      "['real question america mind size binder romney prefer'\n",
      " 'billi graham pray romney victori'\n",
      " 'ross perot endors mitt romney washington time' ...\n",
      " 'give romney pinocchio bogu math claim hell produc 12 million job hash meat'\n",
      " 'barack obama mitt romney sing hot cold kati perri'\n",
      " 'romney tell control super pac slush fund lie ppl mormon']\n"
     ]
    }
   ],
   "source": [
    "# print(X_valid2)"
   ]
  },
  {
   "cell_type": "markdown",
   "id": "612cd6e1",
   "metadata": {},
   "source": [
    "Test Case"
   ]
  },
  {
   "cell_type": "code",
   "execution_count": null,
   "id": "362022f6",
   "metadata": {},
   "outputs": [],
   "source": [
    "# tf = pd.ExcelFile('tomorrowtest.xlsx')"
   ]
  },
  {
   "cell_type": "code",
   "execution_count": 99,
   "id": "111ed5dc",
   "metadata": {},
   "outputs": [],
   "source": [
    "test_path = 'C:\\\\Users\\\\Sidharth Veluvolu\\\\Desktop\\\\'\n",
    "tf1 = pd.read_excel(test_path + 'final-testData-no-label-Obama-tweets.xlsx', header = None)\n",
    "tf2 = pd.read_excel(test_path + 'final-testData-no-label-Romney-tweets.xlsx', header = None)"
   ]
  },
  {
   "cell_type": "code",
   "execution_count": 100,
   "id": "da7940b9",
   "metadata": {},
   "outputs": [],
   "source": [
    "#Converting text to lower case\n",
    "tf1['Anootated tweet'] = tf1['Anootated tweet'].str.lower()"
   ]
  },
  {
   "cell_type": "code",
   "execution_count": null,
   "id": "e7a7e134",
   "metadata": {},
   "outputs": [],
   "source": [
    "#Converting text to lower case\n",
    "tf2['Anootated tweet'] = tf2['Anootated tweet'].str.lower()"
   ]
  },
  {
   "cell_type": "code",
   "execution_count": 101,
   "id": "05466c3b",
   "metadata": {},
   "outputs": [],
   "source": [
    "# Remove stop words from text\n",
    "tf1['Anootated tweet'] = tf1['Anootated tweet'].apply(lambda x: \" \".join([word for word in str(x).split() if word not in stop_list]))"
   ]
  },
  {
   "cell_type": "code",
   "execution_count": null,
   "id": "8938ed8b",
   "metadata": {},
   "outputs": [],
   "source": [
    "# Remove stop words from text\n",
    "tf2['Anootated tweet'] = tf2['Anootated tweet'].apply(lambda x: \" \".join([word for word in str(x).split() if word not in stop_list]))"
   ]
  },
  {
   "cell_type": "code",
   "execution_count": 102,
   "id": "549bd5ac",
   "metadata": {},
   "outputs": [],
   "source": [
    "#Obama\n",
    "tweets = []\n",
    "for tweet in tf1['Anootated tweet']:\n",
    "    tweet = re.sub(\"@[A-Za-z0-9_*]+\",\"\", str(tweet))\n",
    "    tweet = re.sub(r\"(?:\\@|http?\\://|https?\\://|www)\\S+\", \"\", tweet)\n",
    "    tweet = tweet.replace(\"#\", \"\").replace(\"_\", \" \").replace(\"'\", \"\")\n",
    "    tweet = re.sub(\"[\\W_]\", \" \", tweet)    \n",
    "    tweet = word_tokenize(tweet)\n",
    "    tweet = \" \".join(tweet)\n",
    "    tweets.append(tweet)\n",
    "tf1['Anootated tweet'] = tweets"
   ]
  },
  {
   "cell_type": "code",
   "execution_count": null,
   "id": "524bb658",
   "metadata": {},
   "outputs": [],
   "source": [
    "#Romney\n",
    "tweets = []\n",
    "for tweet in tf2['Anootated tweet']:\n",
    "    tweet = re.sub(\"@[A-Za-z0-9_*]+\",\"\", str(tweet))\n",
    "    tweet = re.sub(r\"(?:\\@|http?\\://|https?\\://|www)\\S+\", \"\", tweet)\n",
    "    tweet = tweet.replace(\"#\", \"\").replace(\"_\", \" \").replace(\"'\", \"\")\n",
    "    tweet = re.sub(\"[\\W_]\", \" \", tweet)    \n",
    "    tweet = word_tokenize(tweet)\n",
    "    tweet = \" \".join(tweet)\n",
    "    tweets.append(tweet)\n",
    "tf2['Anootated tweet'] = tweets"
   ]
  },
  {
   "cell_type": "code",
   "execution_count": 103,
   "id": "2bec42c9",
   "metadata": {},
   "outputs": [],
   "source": [
    "tf1['Anootated tweet'] = tf1['Anootated tweet'].apply(lambda x: \" \".join([st.stem(word) for word in x.split()]))\n"
   ]
  },
  {
   "cell_type": "code",
   "execution_count": null,
   "id": "79b088c1",
   "metadata": {},
   "outputs": [],
   "source": [
    "tf2['Anootated tweet'] = tf2['Anootated tweet'].apply(lambda x: \" \".join([st.stem(word) for word in x.split()]))\n"
   ]
  },
  {
   "cell_type": "code",
   "execution_count": 104,
   "id": "0d536092",
   "metadata": {},
   "outputs": [],
   "source": [
    "tf1['Anootated tweet'] = tf1['Anootated tweet'].apply(lambda x: \" \".join([word for word in x.split() if len(word)>1]))"
   ]
  },
  {
   "cell_type": "code",
   "execution_count": null,
   "id": "12171862",
   "metadata": {},
   "outputs": [],
   "source": [
    "#Deleting single length characters\n",
    "tf2['Anootated tweet'] = tf2['Anootated tweet'].apply(lambda x: \" \".join([word for word in x.split() if len(word)>1]))"
   ]
  },
  {
   "cell_type": "code",
   "execution_count": 105,
   "id": "3ef482fa",
   "metadata": {},
   "outputs": [],
   "source": [
    "X_test1 = tf1['Anootated tweet']\n",
    "X_test2 = tf2['Anootated tweet']"
   ]
  },
  {
   "cell_type": "code",
   "execution_count": 109,
   "id": "05cb5e11",
   "metadata": {},
   "outputs": [],
   "source": [
    "y_pred1 = logreg_Obama.predict(X_test1)"
   ]
  },
  {
   "cell_type": "code",
   "execution_count": null,
   "id": "f6b9b22d",
   "metadata": {},
   "outputs": [],
   "source": [
    "y_pred2 = logreg_Romney.predict(X_test2)"
   ]
  },
  {
   "cell_type": "code",
   "execution_count": 110,
   "id": "ba7eb2d0",
   "metadata": {},
   "outputs": [],
   "source": [
    "with open(test_path + 'obama.txt', 'w') as f:\n",
    "    for idx, y in enumerate(y_pred1):\n",
    "        f.write(str(idx+1) + ';;' + str(y) + '\\n')"
   ]
  },
  {
   "cell_type": "code",
   "execution_count": null,
   "id": "bb3af54f",
   "metadata": {},
   "outputs": [],
   "source": [
    "with open(test_path + 'romney.txt', 'w') as f:\n",
    "    for idx, y in enumerate(y_pred2):\n",
    "        f.write(str(idx+1) + ';;' + str(y) + '\\n')"
   ]
  },
  {
   "cell_type": "code",
   "execution_count": null,
   "id": "cfbaf194",
   "metadata": {},
   "outputs": [],
   "source": []
  },
  {
   "cell_type": "code",
   "execution_count": null,
   "id": "b4181e26",
   "metadata": {},
   "outputs": [],
   "source": []
  }
 ],
 "metadata": {
  "kernelspec": {
   "display_name": "Python 3 (ipykernel)",
   "language": "python",
   "name": "python3"
  },
  "language_info": {
   "codemirror_mode": {
    "name": "ipython",
    "version": 3
   },
   "file_extension": ".py",
   "mimetype": "text/x-python",
   "name": "python",
   "nbconvert_exporter": "python",
   "pygments_lexer": "ipython3",
   "version": "3.8.5"
  }
 },
 "nbformat": 4,
 "nbformat_minor": 5
}
